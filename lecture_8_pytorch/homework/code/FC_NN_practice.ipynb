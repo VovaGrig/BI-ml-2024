{
  "cells": [
    {
      "cell_type": "markdown",
      "metadata": {
        "colab_type": "text",
        "id": "view-in-github"
      },
      "source": [
        "<a href=\"https://colab.research.google.com/github/danon6868/BI-ml-2024/blob/main/lecture_8_pytorch/homework/FC_NN_practice.ipynb\" target=\"_parent\"><img src=\"https://colab.research.google.com/assets/colab-badge.svg\" alt=\"Open In Colab\"/></a>"
      ]
    },
    {
      "cell_type": "markdown",
      "metadata": {
        "id": "-pSGPQS8Btmc"
      },
      "source": [
        "Всем привет! Сегодня вы впервые попробуете написать свою собственную нейронную сеть и попробовать ее обучить. Мы будем работать с картинками, но пока что не совсем тем способом, которым лучше всего это делать, но должно получиться неплохо.\n",
        "\n",
        "Будем работать с [датасетом](https://github.com/rois-codh/kmnist) `Kuzushiji-MNIST` (`KMNIST`). Это рукописные буквы, изображения имеют размер (28, 28, 1) и разделены на 10 классов, по ссылке можно прочитать подробнее."
      ]
    },
    {
      "cell_type": "code",
      "execution_count": 1,
      "metadata": {
        "id": "75HVAP_RFU7r"
      },
      "outputs": [],
      "source": [
        "import numpy as np\n",
        "import torch\n",
        "import matplotlib.pyplot as plt\n",
        "from IPython.display import clear_output"
      ]
    },
    {
      "cell_type": "markdown",
      "metadata": {
        "id": "46iQ8ixtEruP"
      },
      "source": [
        "## Загрузка данных"
      ]
    },
    {
      "cell_type": "markdown",
      "metadata": {
        "id": "R6h1jVreJlV-"
      },
      "source": [
        "Сейчас мы будем использовать встроенные данные, но в реальности приходится писать свой класс для датасета (Dataset), у которого реализовывать несколько обязательных методов (напр, `__getitem__`), но это обсудим уже потом."
      ]
    },
    {
      "cell_type": "code",
      "execution_count": 137,
      "metadata": {
        "id": "s9L9Z02o_1bK"
      },
      "outputs": [],
      "source": [
        "import torchvision\n",
        "from torchvision.datasets import KMNIST\n",
        "\n",
        "\n",
        "# Превращает картинки в тензоры\n",
        "transform = torchvision.transforms.Compose([torchvision.transforms.ToTensor()])\n",
        "\n",
        "# Загрузим данные (в переменных лежат объекты типа `Dataset`)\n",
        "# В аргумент `transform` мы передаем необходимые трансформации (ToTensor)\n",
        "trainset = KMNIST(root=\"./KMNIST\", train=True, download=False, transform=transform)\n",
        "testset = KMNIST(root=\"./KMNIST\", train=False, download=False, transform=transform)\n",
        "\n",
        "clear_output()"
      ]
    },
    {
      "cell_type": "markdown",
      "metadata": {
        "id": "V83E2vDrO9CC"
      },
      "source": [
        "Определим даталоадеры, они нужны, чтобы реализовывать стохастический градиентный спуск (то есть мы не хотим считывать в оперативную память все картинки сразу, а делать это батчами)."
      ]
    },
    {
      "cell_type": "code",
      "execution_count": 138,
      "metadata": {
        "id": "oqC8XO8pO8Px"
      },
      "outputs": [],
      "source": [
        "from torch.utils.data import DataLoader\n",
        "\n",
        "\n",
        "# Можно оставить таким\n",
        "batch_size = 256\n",
        "\n",
        "trainloader = DataLoader(trainset, batch_size=batch_size, shuffle=True, num_workers=2)\n",
        "testloader = DataLoader(testset, batch_size=batch_size, shuffle=False, num_workers=2)"
      ]
    },
    {
      "cell_type": "markdown",
      "metadata": {
        "id": "-Ntp5sLoPyGx"
      },
      "source": [
        "Подумайте, как может влиять на скорость обучения параметр `batch_size`, почему вы так считаете?\n",
        "\n",
        "**Ответ:** Чем больше батч-сайз, тем меньше итераций в каждой эпохе. С этой точки зрения, скорость обучения как будто должна расти, но я думаю дольше будет сходиться loss."
      ]
    },
    {
      "cell_type": "markdown",
      "metadata": {
        "id": "t2vmM4KaHvrs"
      },
      "source": [
        "Посмотрим на какую-нибудь картинку:"
      ]
    },
    {
      "cell_type": "code",
      "execution_count": 97,
      "metadata": {},
      "outputs": [
        {
          "data": {
            "text/plain": [
              "torch.Size([1, 28, 28])"
            ]
          },
          "execution_count": 97,
          "metadata": {},
          "output_type": "execute_result"
        }
      ],
      "source": [
        "trainset[0][0].shape"
      ]
    },
    {
      "cell_type": "code",
      "execution_count": 98,
      "metadata": {
        "colab": {
          "base_uri": "https://localhost:8080/",
          "height": 266
        },
        "id": "N-b-kFCYAoOP",
        "outputId": "d077a35b-f874-40c2-e1da-1f461c11172f"
      },
      "outputs": [
        {
          "data": {
            "image/png": "[encoded data removed]",
            "text/plain": [
              "<Figure size 640x480 with 1 Axes>"
            ]
          },
          "metadata": {},
          "output_type": "display_data"
        }
      ],
      "source": [
        "plt.imshow(trainset[0][0].view(28, 28).numpy(), cmap=\"gray\")\n",
        "plt.axis(\"off\")\n",
        "plt.title(f\"Class is {trainset[0][1]}\", fontsize=16)"
      ]
    },
    {
      "cell_type": "markdown",
      "metadata": {
        "id": "8_MSY231Hzz9"
      },
      "source": [
        "### Задание 1. Смотрим на картинки\n",
        "\n",
        "**2** балла\n",
        "\n",
        "Нарисуйте на одном графике изображения всех 10 классов:"
      ]
    },
    {
      "cell_type": "markdown",
      "metadata": {
        "id": "j0tNdHM5JS6l"
      },
      "source": [
        "⣿⣿⣿⣿⣿⣿⠿⢋⣥⣴⣶⣶⣶⣬⣙⠻⠟⣋⣭⣭⣭⣭⡙⠻⣿⣿⣿⣿⣿\n",
        "⣿⣿⣿⣿⡿⢋⣴⣿⣿⠿⢟⣛⣛⣛⠿⢷⡹⣿⣿⣿⣿⣿⣿⣆⠹⣿⣿⣿⣿\n",
        "⣿⣿⣿⡿⢁⣾⣿⣿⣴⣿⣿⣿⣿⠿⠿⠷⠥⠱⣶⣶⣶⣶⡶⠮⠤⣌⡙⢿⣿\n",
        "⣿⡿⢛⡁⣾⣿⣿⣿⡿⢟⡫⢕⣪⡭⠥⢭⣭⣉⡂⣉⡒⣤⡭⡉⠩⣥⣰⠂⠹\n",
        "⡟⢠⣿⣱⣿⣿⣿⣏⣛⢲⣾⣿⠃⠄⠐⠈⣿⣿⣿⣿⣿⣿⠄⠁⠃⢸⣿⣿⡧\n",
        "⢠⣿⣿⣿⣿⣿⣿⣿⣿⣇⣊⠙⠳⠤⠤⠾⣟⠛⠍⣹⣛⣛⣢⣀⣠⣛⡯⢉⣰\n",
        "⣿⣿⣿⣿⣿⣿⣿⣿⣿⣿⣿⣿⣷⡶⠶⢒⣠⣼⣿⣿⣛⠻⠛⢛⣛⠉⣴⣿⣿\n",
        "⣿⣿⣿⣿⣿⣿⣿⡿⢛⡛⢿⣿⣿⣶⣿⣿⣿⣿⣿⣿⣿⣿⣿⣿⣿⣷⡈⢿⣿\n",
        "⣿⣿⣿⣿⣿⣿⣿⠸⣿⡻⢷⣍⣛⠻⠿⠿⣿⣿⣿⣿⣿⣿⣿⣿⣿⠿⢇⡘⣿\n",
        "⣿⣿⣿⣿⣿⣿⣿⣷⣝⠻⠶⣬⣍⣛⣛⠓⠶⠶⠶⠤⠬⠭⠤⠶⠶⠞⠛⣡⣿\n",
        "⢿⣿⣿⣿⣿⣿⣿⣿⣿⣿⣷⣶⣬⣭⣍⣙⣛⣛⣛⠛⠛⠛⠿⠿⠿⠛⣠⣿⣿\n",
        "⣦⣈⠉⢛⠻⠿⠿⢿⣿⣿⣿⣿⣿⣿⣿⣿⣿⣿⣿⡿⠿⠛⣁⣴⣾⣿⣿⣿⣿\n",
        "⣿⣿⣿⣶⣮⣭⣁⣒⣒⣒⠂⠠⠬⠭⠭⠭⢀⣀⣠⣄⡘⠿⣿⣿⣿⣿⣿⣿⣿\n",
        "⣿⣿⣿⣿⣿⣿⣿⣿⣿⣿⣿⣿⣿⣿⣿⣿⣿⣿⣿⣿⣿⣦⡈⢿⣿⣿⣿⣿⣿\n",
        "\n",
        "\n",
        "\n"
      ]
    },
    {
      "cell_type": "code",
      "execution_count": 99,
      "metadata": {},
      "outputs": [
        {
          "data": {
            "image/png": "[encoded data removed]",
            "text/plain": [
              "<Figure size 1500x600 with 10 Axes>"
            ]
          },
          "metadata": {},
          "output_type": "display_data"
        }
      ],
      "source": [
        "images_per_label = {}\n",
        "trainloader_to_plot = DataLoader(trainset, batch_size=1, shuffle=True)\n",
        "# Collect one image from each label\n",
        "for image, label in trainloader_to_plot:\n",
        "    label = label.item()\n",
        "    if label not in images_per_label:\n",
        "        images_per_label[label] = image.squeeze(0)\n",
        "\n",
        "    if len(images_per_label) == 10:\n",
        "        break\n",
        "\n",
        "# Plot the collected images\n",
        "fig, axs = plt.subplots(2, 5, figsize=(15, 6))\n",
        "fig.suptitle(\"Images from each label of KMNIST\")\n",
        "\n",
        "for i, (label, image) in enumerate(images_per_label.items()):\n",
        "    ax = axs[i // 5, i % 5]\n",
        "    ax.imshow(image.permute(1, 2, 0))\n",
        "    ax.set_title(f\"Label: {label}\")\n",
        "\n",
        "plt.tight_layout()\n",
        "plt.show()"
      ]
    },
    {
      "cell_type": "markdown",
      "metadata": {
        "id": "dLCfnFW-JtGx"
      },
      "source": [
        "### Задание 2. Строим свой первый MLP\n",
        "\n",
        "**4** балла\n",
        "\n",
        "MLP (multilayer perceptron) или нейронная сеть из полносвязных (линейных) слоев, это мы уже знаем.\n",
        "\n",
        "Опишите структуру сети: 3 полносвязных слоя + функции активации на ваш выбор. **Подумайте** про активацию после последнего слоя!\n",
        "\n",
        "Сеть на выходе 1 слоя должна иметь 256 признаков, на выходе из 2 128 признаков, на выходе из последнего столько, сколько у вас классов.\n",
        "\n",
        "https://pytorch.org/docs/stable/nn.html?highlight=activation#non-linear-activations-weighted-sum-nonlinearity"
      ]
    },
    {
      "cell_type": "code",
      "execution_count": 133,
      "metadata": {
        "id": "dhYBvQIXJdSz"
      },
      "outputs": [],
      "source": [
        "import torch.nn as nn\n",
        "import torch.nn.functional as F\n",
        "\n",
        "\n",
        "class FCNet(nn.Module):\n",
        "    def __init__(self):\n",
        "        super().__init__()  #  это надо помнить!\n",
        "        ## YOUR CODE HERE\n",
        "        self.fc1 = nn.Linear(in_features=28 * 28, out_features=256)\n",
        "        self.fc2 = nn.Linear(in_features=256, out_features=128)\n",
        "        self.fc3 = nn.Linear(in_features=128, out_features=10)\n",
        "\n",
        "    def forward(\n",
        "        self, x\n",
        "    ):  # Forward вызывается внутри метода __call__ родительского класса\n",
        "        ## x -> тензор размерности (BATCH_SIZE, N_CHANNELS, WIDTH, HEIGHT)\n",
        "        ## надо подумать над тем, что у нас полносвязные слои принимают векторы\n",
        "        x = x.view(-1, 28 * 28)\n",
        "        x = self.fc1(x)\n",
        "        x = F.relu(x)\n",
        "        x = self.fc2(x)\n",
        "        x = F.relu(x)\n",
        "        x = self.fc3(x)\n",
        "        return x"
      ]
    },
    {
      "cell_type": "markdown",
      "metadata": {
        "id": "uI0R77EQNKef"
      },
      "source": [
        "Сколько обучаемых параметров у вашей модели (весов и смещений)?\n",
        "\n",
        "**Ответ:** 784 + 256 + 2128 + 10 = 3178"
      ]
    },
    {
      "cell_type": "markdown",
      "metadata": {
        "id": "iwGllji2M4lp"
      },
      "source": [
        "### Задание 3. Напишите код для обучения модели\n",
        "\n",
        "**5** баллов\n",
        "\n",
        "Можно (и нужно) подглядывать в код семинара по пайторчу. Вам нужно создать модель, определить функцию потерь и оптимизатор (начнем с `SGD`). Дальше нужно обучать модель, при помощи тренировочного `Dataloader'a` и считать лосс на тренировочном и тестовом `Dataloader'ах`."
      ]
    },
    {
      "cell_type": "markdown",
      "metadata": {
        "id": "Grv9xcybRfCX"
      },
      "source": [
        "Напишем функцию для рассчета `accuracy`:"
      ]
    },
    {
      "cell_type": "code",
      "execution_count": 101,
      "metadata": {
        "id": "9D2QPFe5JdVc"
      },
      "outputs": [],
      "source": [
        "def get_accuracy(model, dataloader):\n",
        "    \"\"\"\n",
        "    model - обученная нейронная сеть\n",
        "    dataloader - даталоадер, на котором вы хотите посчитать accuracy\n",
        "    \"\"\"\n",
        "    correct = 0\n",
        "    total = 0\n",
        "    with torch.no_grad():  # Тензоры внутри этого блока будут иметь requires_grad=False\n",
        "        for images, labels in dataloader:\n",
        "            outputs = model(images)\n",
        "            _, predicted = torch.max(outputs.data, 1)\n",
        "            total += labels.size(0)\n",
        "            correct += (predicted == labels).sum().item()\n",
        "    accuracy = correct / total\n",
        "\n",
        "    return accuracy"
      ]
    },
    {
      "cell_type": "markdown",
      "metadata": {
        "id": "D3EmoWJyTBkE"
      },
      "source": [
        "#### Основной цикл обучения\n",
        "\n",
        "Этот код можно (и зачастую нужно) выносить в отдельную функцию, но пока что можете это не делать, все по желанию)"
      ]
    },
    {
      "cell_type": "code",
      "execution_count": 102,
      "metadata": {
        "id": "uIZKSOdgUi3e"
      },
      "outputs": [],
      "source": [
        "# Создадим объект модели\n",
        "fc_net = FCNet()\n",
        "# Определим функцию потерь\n",
        "loss_function = nn.CrossEntropyLoss()\n",
        "# Создадим оптимизатор для нашей сети\n",
        "optimizer = torch.optim.Adam(fc_net.parameters(), lr=3e-4)"
      ]
    },
    {
      "cell_type": "markdown",
      "metadata": {
        "id": "uKYzXFqoX_fd"
      },
      "source": [
        "Напишите цикл обучения. Для начала хватит 10 эпох. Какое значение `accuracy` на тестовой выборке удалось получить?"
      ]
    },
    {
      "cell_type": "code",
      "execution_count": 103,
      "metadata": {
        "id": "Ma2bshC6MxI6"
      },
      "outputs": [
        {
          "name": "stdout",
          "output_type": "stream",
          "text": [
            "Epoch=1 loss=0.9123\n",
            "Epoch=2 loss=0.4353\n",
            "Epoch=3 loss=0.3505\n",
            "Epoch=4 loss=0.2969\n",
            "Epoch=5 loss=0.2551\n",
            "Epoch=6 loss=0.2219\n",
            "Epoch=7 loss=0.1939\n",
            "Epoch=8 loss=0.1704\n",
            "Epoch=9 loss=0.1505\n",
            "Epoch=10 loss=0.1332\n",
            "CPU times: user 1min 3s, sys: 1.31 s, total: 1min 5s\n",
            "Wall time: 1min 8s\n"
          ]
        }
      ],
      "source": [
        "%%time\n",
        "n_epochs = 10\n",
        "loss_history = []\n",
        "for epoch in range(n_epochs):\n",
        "    epoch_loss = 0\n",
        "    for images, labels in trainloader: # Получаем батч тренировочных картинок\n",
        "        optimizer.zero_grad() # чтобы не было как в лог регрессии, когда мы не обнуляли градиенты\n",
        "        outputs = fc_net(images) # делаем предсказания\n",
        "        loss = loss_function(outputs, labels) # считаем лосс\n",
        "        loss.backward() # считаем градиенты\n",
        "        optimizer.step() # делаем шаг градиентного спуска\n",
        "\n",
        "        epoch_loss += loss.item()\n",
        "\n",
        "    loss_history.append(epoch_loss/len(trainloader))\n",
        "\n",
        "    print(f\"Epoch={epoch+1} loss={loss_history[epoch]:.4f}\")\n",
        "## YOUR CODE HERE\n"
      ]
    },
    {
      "cell_type": "code",
      "execution_count": 104,
      "metadata": {
        "id": "2cB5LRbrS3BN"
      },
      "outputs": [
        {
          "name": "stdout",
          "output_type": "stream",
          "text": [
            "Значение accuracy для тестовой выборки: 0.869\n"
          ]
        }
      ],
      "source": [
        "print(f\"Значение accuracy для тестовой выборки: {get_accuracy(fc_net, testloader)}\")"
      ]
    },
    {
      "cell_type": "markdown",
      "metadata": {
        "id": "4HTJzBM8Yk1R"
      },
      "source": [
        "### Задание 4. Изучение влияния нормализации\n",
        "\n",
        "**3** балла\n",
        "\n",
        "Вы могли заметить, что мы забыли провести нормализацию наших данных, а для нейронных сетей это может быть очень критично.\n",
        "\n",
        "Нормализуйте данные.\n",
        "\n",
        "* Подсчитайте среднее значение и стандартное отклонение интенсивности пикселей для всех тренировочных данных\n",
        "* Нормализуйте данные с использованием этих параметров (используйте трансформацию `Normalize`)\n",
        "\n",
        "\n",
        "Оцените влияние нормировки данных."
      ]
    },
    {
      "cell_type": "code",
      "execution_count": 139,
      "metadata": {
        "id": "FHlDaYWGR6YA"
      },
      "outputs": [
        {
          "name": "stdout",
          "output_type": "stream",
          "text": [
            "Mean:0.19176211953163147, Sigma:0.3483428359031677\n"
          ]
        }
      ],
      "source": [
        "m = trainset.train_data.float().mean() / 255.0\n",
        "sigma = trainset.train_data.float().std() / 255.0\n",
        "print(f\"Mean:{m.item()}, Sigma:{sigma.item()}\")\n",
        "\n",
        "transform_with_norm = torchvision.transforms.Compose(\n",
        "    [torchvision.transforms.ToTensor(), torchvision.transforms.Normalize(m, sigma)]\n",
        ")\n",
        "\n",
        "trainset.transform = transform_with_norm\n",
        "testset.transform = transform_with_norm"
      ]
    },
    {
      "cell_type": "code",
      "execution_count": 140,
      "metadata": {
        "id": "Qj93J3X_R6aa"
      },
      "outputs": [],
      "source": [
        "fc_net = FCNet()\n",
        "loss_function = nn.CrossEntropyLoss()\n",
        "optimizer = torch.optim.Adam(fc_net.parameters(), lr=3e-4)"
      ]
    },
    {
      "cell_type": "code",
      "execution_count": 141,
      "metadata": {},
      "outputs": [],
      "source": [
        "trainloader = DataLoader(trainset, batch_size=batch_size, shuffle=True, num_workers=2)\n",
        "testloader = DataLoader(testset, batch_size=batch_size, shuffle=False, num_workers=2)"
      ]
    },
    {
      "cell_type": "code",
      "execution_count": 142,
      "metadata": {
        "id": "VWZtYBCvAoWQ"
      },
      "outputs": [
        {
          "name": "stdout",
          "output_type": "stream",
          "text": [
            "Epoch=1 loss=0.6885\n",
            "Epoch=2 loss=0.3012\n",
            "Epoch=3 loss=0.2216\n",
            "Epoch=4 loss=0.1732\n",
            "Epoch=5 loss=0.1393\n",
            "Epoch=6 loss=0.1127\n",
            "Epoch=7 loss=0.0922\n",
            "Epoch=8 loss=0.0754\n",
            "Epoch=9 loss=0.0616\n",
            "Epoch=10 loss=0.0501\n",
            "CPU times: user 1min, sys: 1.31 s, total: 1min 1s\n",
            "Wall time: 1min 24s\n"
          ]
        }
      ],
      "source": [
        "%%time\n",
        "n_epochs = 10\n",
        "loss_history = []\n",
        "for epoch in range(n_epochs):\n",
        "    epoch_loss = 0\n",
        "    for images, labels in trainloader: # Получаем батч тренировочных картинок\n",
        "        optimizer.zero_grad() # чтобы не было как в лог регрессии, когда мы не обнуляли градиенты\n",
        "        outputs = fc_net(images) # делаем предсказания\n",
        "        loss = loss_function(outputs, labels) # считаем лосс\n",
        "        loss.backward() # считаем градиенты\n",
        "        optimizer.step() # делаем шаг градиентного спуска\n",
        "\n",
        "        epoch_loss += loss.item()\n",
        "\n",
        "    loss_history.append(epoch_loss/len(trainloader))\n",
        "\n",
        "    print(f\"Epoch={epoch+1} loss={loss_history[epoch]:.4f}\")\n",
        "## YOUR CODE HERE\n",
        "\n"
      ]
    },
    {
      "cell_type": "code",
      "execution_count": 143,
      "metadata": {
        "id": "Gfbv9OIAAoYT"
      },
      "outputs": [
        {
          "name": "stdout",
          "output_type": "stream",
          "text": [
            "Значение accuracy для тестовой выборки после нормализации: 0.8997\n"
          ]
        }
      ],
      "source": [
        "print(\n",
        "    f\"Значение accuracy для тестовой выборки после нормализации: {get_accuracy(fc_net, testloader)}\"\n",
        ")"
      ]
    },
    {
      "cell_type": "markdown",
      "metadata": {
        "id": "RcIJvhWkcjlh"
      },
      "source": [
        "Как изменилась `accuracy` после нормализации?"
      ]
    },
    {
      "cell_type": "markdown",
      "metadata": {},
      "source": [
        "Оно прилично повысилось!"
      ]
    },
    {
      "cell_type": "markdown",
      "metadata": {
        "id": "atcfzu4acxP2"
      },
      "source": [
        "### Задание 5. Изучение влияния функции активации\n",
        "\n",
        "**3** балла\n",
        "\n",
        "Исследуйте влияние функций активации на скорость обучения и точность предсказаний модели.\n",
        "\n",
        "Используйте три функции:\n",
        "\n",
        "* [Sigmoid](https://pytorch.org/docs/stable/nn.functional.html#sigmoid)\n",
        "* [GELU](https://pytorch.org/docs/stable/nn.functional.html#gelu)\n",
        "* [Tanh](https://pytorch.org/docs/stable/generated/torch.nn.Tanh.html#torch.nn.Tanh)"
      ]
    },
    {
      "cell_type": "markdown",
      "metadata": {},
      "source": [
        "Давайте немного модифицируем наш класс, чтобы было удобно проверять различные функции активации"
      ]
    },
    {
      "cell_type": "code",
      "execution_count": 115,
      "metadata": {
        "id": "bAESPpjGa3M1"
      },
      "outputs": [],
      "source": [
        "## YOUR CODE HERE\n",
        "class FCNet(nn.Module):\n",
        "    def __init__(self, activation):\n",
        "        super().__init__()  #  это надо помнить!\n",
        "        ## YOUR CODE HERE\n",
        "        self.fc1 = nn.Linear(in_features=28 * 28, out_features=256)\n",
        "        self.fc2 = nn.Linear(in_features=256, out_features=128)\n",
        "        self.fc3 = nn.Linear(in_features=128, out_features=10)\n",
        "        self.activation = activation\n",
        "\n",
        "    def forward(\n",
        "        self, x\n",
        "    ):  # Forward вызывается внутри метода __call__ родительского класса\n",
        "        ## x -> тензор размерности (BATCH_SIZE, N_CHANNELS, WIDTH, HEIGHT)\n",
        "        ## надо подумать над тем, что у нас полносвязные слои принимают векторы\n",
        "        x = x.view(-1, 28 * 28)\n",
        "        x = self.fc1(x)\n",
        "        x = self.activation(x)\n",
        "        x = self.fc2(x)\n",
        "        x = self.activation(x)\n",
        "        x = self.fc3(x)\n",
        "        return x"
      ]
    },
    {
      "cell_type": "code",
      "execution_count": 117,
      "metadata": {
        "id": "GdvHSFeKa2sW"
      },
      "outputs": [
        {
          "name": "stdout",
          "output_type": "stream",
          "text": [
            "Activation function: gelu\n",
            "Epoch=1 loss=0.6582\n",
            "Epoch=2 loss=0.2809\n",
            "Epoch=3 loss=0.2034\n",
            "Epoch=4 loss=0.1554\n",
            "Epoch=5 loss=0.1226\n",
            "Epoch=6 loss=0.0977\n",
            "Epoch=7 loss=0.0793\n",
            "Epoch=8 loss=0.0639\n",
            "Epoch=9 loss=0.0505\n",
            "Epoch=10 loss=0.0409\n",
            "Activation function: tanh\n",
            "Epoch=1 loss=0.7670\n",
            "Epoch=2 loss=0.3864\n",
            "Epoch=3 loss=0.2617\n",
            "Epoch=4 loss=0.1880\n",
            "Epoch=5 loss=0.1394\n",
            "Epoch=6 loss=0.1046\n",
            "Epoch=7 loss=0.0799\n",
            "Epoch=8 loss=0.0594\n",
            "Epoch=9 loss=0.0445\n",
            "Epoch=10 loss=0.0329\n",
            "Activation function: sigmoid\n",
            "Epoch=1 loss=1.5777\n",
            "Epoch=2 loss=0.7688\n",
            "Epoch=3 loss=0.5499\n",
            "Epoch=4 loss=0.4466\n",
            "Epoch=5 loss=0.3770\n",
            "Epoch=6 loss=0.3238\n",
            "Epoch=7 loss=0.2811\n",
            "Epoch=8 loss=0.2461\n",
            "Epoch=9 loss=0.2159\n",
            "Epoch=10 loss=0.1906\n",
            "CPU times: user 3min 22s, sys: 4.2 s, total: 3min 26s\n",
            "Wall time: 4min 29s\n"
          ]
        }
      ],
      "source": [
        "%%time\n",
        "n_epochs = 10\n",
        "accuracy_scores = []\n",
        "loss_function = nn.CrossEntropyLoss()\n",
        "for activation_func in [F.gelu, F.tanh, F.sigmoid]:\n",
        "    loss_history = []\n",
        "    print(f'Activation function: {activation_func.__name__}')\n",
        "    fc_net = FCNet(activation=activation_func)\n",
        "    optimizer = torch.optim.Adam(fc_net.parameters(), lr=3e-4)\n",
        "    for epoch in range(n_epochs):\n",
        "        epoch_loss = 0\n",
        "        for images, labels in trainloader: # Получаем батч тренировочных картинок\n",
        "            optimizer.zero_grad() # чтобы не было как в лог регрессии, когда мы не обнуляли градиенты\n",
        "            outputs = fc_net(images) # делаем предсказания\n",
        "            loss = loss_function(outputs, labels) # считаем лосс\n",
        "            loss.backward() # считаем градиенты\n",
        "            optimizer.step() # делаем шаг градиентного спуска\n",
        "            epoch_loss += loss.item()\n",
        "\n",
        "        loss_history.append(epoch_loss/len(trainloader))\n",
        "\n",
        "        print(f\"Epoch={epoch+1} loss={loss_history[epoch]:.4f}\")\n",
        "    accuracy_scores.append(get_accuracy(fc_net, testloader))\n",
        "## YOUR CODE HERE\n"
      ]
    },
    {
      "cell_type": "markdown",
      "metadata": {},
      "source": [
        "Быстрее всего посчиталась сигмоида, дальше tanh и последним - gelu"
      ]
    },
    {
      "cell_type": "code",
      "execution_count": 118,
      "metadata": {},
      "outputs": [
        {
          "name": "stdout",
          "output_type": "stream",
          "text": [
            "gelu accuracy: 0.9048\n",
            "tanh accuracy: 0.8982\n",
            "sigmoid accuracy: 0.8556\n"
          ]
        }
      ],
      "source": [
        "for i, activation_func in enumerate([F.gelu, F.tanh, F.sigmoid]):\n",
        "    print(f\"{activation_func.__name__} accuracy: {accuracy_scores[i]}\")"
      ]
    },
    {
      "cell_type": "markdown",
      "metadata": {
        "id": "aG2Oyxy2egVV"
      },
      "source": [
        "С использованием какой функции активации удалось досчить наибольшей `accuracy`?"
      ]
    },
    {
      "cell_type": "markdown",
      "metadata": {},
      "source": [
        "Однозначно, GeLU"
      ]
    },
    {
      "cell_type": "markdown",
      "metadata": {
        "id": "20Ls3Bfsifqd"
      },
      "source": [
        "### Задание 6. Другие оптимизаторы\n",
        "\n",
        "**4** балла\n",
        "\n",
        "Исследуйте влияние оптимизаторов на скорость обучения и точность предсказаний модели.\n",
        "\n",
        "Попробуйте следующие:\n",
        "\n",
        "* [Adam](https://pytorch.org/docs/stable/generated/torch.optim.Adam.html#torch.optim.Adam)\n",
        "* [RMSprop](https://pytorch.org/docs/stable/generated/torch.optim.RMSprop.html#torch.optim.RMSprop)\n",
        "* [Adagrad](https://pytorch.org/docs/stable/generated/torch.optim.Adagrad.html#torch.optim.Adagrad)\n",
        "\n",
        "Вам нужно снова обучить 3 модели и сравнить их перформанс (функцию активации используйте ту, которая показала себя лучше всего)."
      ]
    },
    {
      "cell_type": "code",
      "execution_count": 120,
      "metadata": {
        "id": "rzL2LdA-ifJh"
      },
      "outputs": [],
      "source": [
        "## YOUR CODE HERE\n",
        "class FCNet(nn.Module):\n",
        "    def __init__(self):\n",
        "        super().__init__()  #  это надо помнить!\n",
        "        ## YOUR CODE HERE\n",
        "        self.fc1 = nn.Linear(in_features=28 * 28, out_features=256)\n",
        "        self.fc2 = nn.Linear(in_features=256, out_features=128)\n",
        "        self.fc3 = nn.Linear(in_features=128, out_features=10)\n",
        "\n",
        "    def forward(\n",
        "        self, x\n",
        "    ):  # Forward вызывается внутри метода __call__ родительского класса\n",
        "        ## x -> тензор размерности (BATCH_SIZE, N_CHANNELS, WIDTH, HEIGHT)\n",
        "        ## надо подумать над тем, что у нас полносвязные слои принимают векторы\n",
        "        x = x.view(-1, 28 * 28)\n",
        "        x = self.fc1(x)\n",
        "        x = F.gelu(x)\n",
        "        x = self.fc2(x)\n",
        "        x = F.gelu(x)\n",
        "        x = self.fc3(x)\n",
        "        return x"
      ]
    },
    {
      "cell_type": "code",
      "execution_count": 121,
      "metadata": {},
      "outputs": [
        {
          "name": "stdout",
          "output_type": "stream",
          "text": [
            "Optimizer: Adam\n",
            "Epoch=1 loss=0.1682\n",
            "Epoch=2 loss=0.1473\n",
            "Epoch=3 loss=0.1304\n",
            "Epoch=4 loss=0.1160\n",
            "Epoch=5 loss=0.1030\n",
            "Epoch=6 loss=0.0911\n",
            "Epoch=7 loss=0.0805\n",
            "Epoch=8 loss=0.0710\n",
            "Epoch=9 loss=0.0626\n",
            "Epoch=10 loss=0.0553\n",
            "Optimizer: RMSprop\n",
            "Epoch=1 loss=0.0529\n",
            "Epoch=2 loss=0.0410\n",
            "Epoch=3 loss=0.0355\n",
            "Epoch=4 loss=0.0298\n",
            "Epoch=5 loss=0.0258\n",
            "Epoch=6 loss=0.0216\n",
            "Epoch=7 loss=0.0181\n",
            "Epoch=8 loss=0.0149\n",
            "Epoch=9 loss=0.0122\n",
            "Epoch=10 loss=0.0098\n",
            "Optimizer: Adagrad\n",
            "Epoch=1 loss=0.0069\n",
            "Epoch=2 loss=0.0064\n",
            "Epoch=3 loss=0.0063\n",
            "Epoch=4 loss=0.0062\n",
            "Epoch=5 loss=0.0061\n",
            "Epoch=6 loss=0.0060\n",
            "Epoch=7 loss=0.0059\n",
            "Epoch=8 loss=0.0059\n",
            "Epoch=9 loss=0.0058\n",
            "Epoch=10 loss=0.0058\n",
            "CPU times: user 3min 11s, sys: 4.12 s, total: 3min 15s\n",
            "Wall time: 4min 22s\n"
          ]
        }
      ],
      "source": [
        "%%time\n",
        "n_epochs = 10\n",
        "accuracy_scores = []\n",
        "loss_function = nn.CrossEntropyLoss()\n",
        "optimizers = [torch.optim.Adam, torch.optim.RMSprop, torch.optim.Adagrad]\n",
        "for optimizer_class in optimizers:\n",
        "    print(f'Optimizer: {optimizer_class.__name__}')\n",
        "    loss_history = []\n",
        "    optimizer = optimizer_class(fc_net.parameters(), lr=3e-4)\n",
        "    for epoch in range(n_epochs):\n",
        "        epoch_loss = 0\n",
        "        for images, labels in trainloader: # Получаем батч тренировочных картинок\n",
        "            optimizer.zero_grad() # чтобы не было как в лог регрессии, когда мы не обнуляли градиенты\n",
        "            outputs = fc_net(images) # делаем предсказания\n",
        "            loss = loss_function(outputs, labels) # считаем лосс\n",
        "            loss.backward() # считаем градиенты\n",
        "            optimizer.step() # делаем шаг градиентного спуска\n",
        "            epoch_loss += loss.item()\n",
        "\n",
        "        loss_history.append(epoch_loss/len(trainloader))\n",
        "\n",
        "        print(f\"Epoch={epoch+1} loss={loss_history[epoch]:.4f}\")\n",
        "    accuracy_scores.append(get_accuracy(fc_net, testloader))"
      ]
    },
    {
      "cell_type": "code",
      "execution_count": 122,
      "metadata": {},
      "outputs": [
        {
          "name": "stdout",
          "output_type": "stream",
          "text": [
            "Adam accuracy: 0.8856\n",
            "RMSprop accuracy: 0.8867\n",
            "Adagrad accuracy: 0.8938\n"
          ]
        }
      ],
      "source": [
        "for i, optimizer_class in enumerate(optimizers):\n",
        "    print(f'{optimizer_class.__name__} accuracy: {accuracy_scores[i]}')"
      ]
    },
    {
      "cell_type": "markdown",
      "metadata": {},
      "source": [
        "С использованием какого оптимизатора удалось досчить наибольшей `accuracy`?"
      ]
    },
    {
      "cell_type": "markdown",
      "metadata": {},
      "source": [
        "Однозначно, Adagrad!"
      ]
    },
    {
      "cell_type": "markdown",
      "metadata": {
        "id": "eHA48PsperxS"
      },
      "source": [
        "### Задание 7. Реализация ReLU\n",
        "\n",
        "**4** балла\n",
        "\n",
        "Самостоятельно реализуйте функцию активации ReLU.\n",
        "Замените в уже обученной модели функцию активации на вашу. Убедитесь что ничего не изменилась."
      ]
    },
    {
      "cell_type": "code",
      "execution_count": 123,
      "metadata": {
        "id": "63uTkUp-a2xr"
      },
      "outputs": [],
      "source": [
        "class CustomReLU(nn.Module):\n",
        "    def __init__(self):\n",
        "        super().__init__()\n",
        "\n",
        "    def forward(self, x):\n",
        "        # если элемент x < 0, то 0, если >= 0, то x\n",
        "        return torch.max(torch.tensor(0, dtype=x.dtype, device=x.device), x)"
      ]
    },
    {
      "cell_type": "markdown",
      "metadata": {
        "id": "xsKzxa33fhbN"
      },
      "source": [
        "Заново обучите модель и проверьте правильность реализации `CustomReLU`."
      ]
    },
    {
      "cell_type": "code",
      "execution_count": 144,
      "metadata": {
        "id": "ePP55RBeecYh"
      },
      "outputs": [],
      "source": [
        "import torch.nn as nn\n",
        "import torch.nn.functional as F\n",
        "\n",
        "\n",
        "class FCNet(nn.Module):\n",
        "    def __init__(self):\n",
        "        super().__init__()  #  это надо помнить!\n",
        "        ## YOUR CODE HERE\n",
        "        self.fc1 = nn.Linear(in_features=28 * 28, out_features=256)\n",
        "        self.fc2 = nn.Linear(in_features=256, out_features=128)\n",
        "        self.fc3 = nn.Linear(in_features=128, out_features=10)\n",
        "        self.activation = CustomReLU()\n",
        "\n",
        "    def forward(\n",
        "        self, x\n",
        "    ):  # Forward вызывается внутри метода __call__ родительского класса\n",
        "        ## x -> тензор размерности (BATCH_SIZE, N_CHANNELS, WIDTH, HEIGHT)\n",
        "        ## надо подумать над тем, что у нас полносвязные слои принимают векторы\n",
        "        x = x.view(-1, 28 * 28)\n",
        "        x = self.fc1(x)\n",
        "        x = self.activation(x)\n",
        "        x = self.fc2(x)\n",
        "        x = self.activation(x)\n",
        "        x = self.fc3(x)\n",
        "        return x"
      ]
    },
    {
      "cell_type": "code",
      "execution_count": 145,
      "metadata": {},
      "outputs": [],
      "source": [
        "fc_net = FCNet()\n",
        "loss_function = nn.CrossEntropyLoss()\n",
        "optimizer = torch.optim.Adam(fc_net.parameters(), lr=3e-4)"
      ]
    },
    {
      "cell_type": "code",
      "execution_count": 146,
      "metadata": {},
      "outputs": [
        {
          "name": "stdout",
          "output_type": "stream",
          "text": [
            "Epoch=1 loss=0.6875\n",
            "Epoch=2 loss=0.3008\n",
            "Epoch=3 loss=0.2228\n",
            "Epoch=4 loss=0.1737\n",
            "Epoch=5 loss=0.1385\n",
            "Epoch=6 loss=0.1124\n",
            "Epoch=7 loss=0.0917\n",
            "Epoch=8 loss=0.0750\n",
            "Epoch=9 loss=0.0621\n",
            "Epoch=10 loss=0.0497\n",
            "CPU times: user 1min 9s, sys: 1.28 s, total: 1min 10s\n",
            "Wall time: 1min 27s\n"
          ]
        }
      ],
      "source": [
        "%%time\n",
        "n_epochs = 10\n",
        "loss_history = []\n",
        "for epoch in range(n_epochs):\n",
        "    epoch_loss = 0\n",
        "    for images, labels in trainloader: # Получаем батч тренировочных картинок\n",
        "        optimizer.zero_grad() # чтобы не было как в лог регрессии, когда мы не обнуляли градиенты\n",
        "        outputs = fc_net(images) # делаем предсказания\n",
        "        loss = loss_function(outputs, labels) # считаем лосс\n",
        "        loss.backward() # считаем градиенты\n",
        "        optimizer.step() # делаем шаг градиентного спуска\n",
        "\n",
        "        epoch_loss += loss.item()\n",
        "\n",
        "    loss_history.append(epoch_loss/len(trainloader))\n",
        "\n",
        "    print(f\"Epoch={epoch+1} loss={loss_history[epoch]:.4f}\")\n",
        "## YOUR CODE HERE\n",
        "\n"
      ]
    },
    {
      "cell_type": "code",
      "execution_count": 147,
      "metadata": {},
      "outputs": [
        {
          "name": "stdout",
          "output_type": "stream",
          "text": [
            "Значение accuracy для тестовой выборки после нормализации: 0.8989\n"
          ]
        }
      ],
      "source": [
        "print(\n",
        "    f\"Значение accuracy для тестовой выборки после нормализации: {get_accuracy(fc_net, testloader)}\"\n",
        ")"
      ]
    },
    {
      "cell_type": "markdown",
      "metadata": {},
      "source": [
        "Значение немного изменилось, но вероятно, это потому что батчи в эпохах по разному собираются. Возможно, большее количество эпох решило бы эту проблему. В любом случае, полученное здесь и в задании 4 значения похожи)"
      ]
    },
    {
      "cell_type": "markdown",
      "metadata": {
        "id": "vWBG1mMwgN17"
      },
      "source": [
        "### Задание 8. Генерация картинок\n",
        "\n",
        "**3** балла\n",
        "\n",
        "Придумайте 3 предложения и сгенерируйте при помощи них 3 картинки, используя телеграм бота [ruDALLE](https://t.me/sber_rudalle_xl_bot). Прикрепите сюда ваши картины.\n",
        "\n",
        "\n",
        "Этот бот очень странный!)))"
      ]
    },
    {
      "cell_type": "markdown",
      "metadata": {},
      "source": [
        "![Этот бот странный)](../data/I_missed_ML_deadline.jpg)"
      ]
    },
    {
      "cell_type": "markdown",
      "metadata": {},
      "source": [
        "![Этот бот странный)](../data/beautiful_nature.jpg)"
      ]
    },
    {
      "cell_type": "markdown",
      "metadata": {},
      "source": [
        "![Этот бот странный)](../data/bioinformatic_and_biologist_arguing.jpg)"
      ]
    },
    {
      "cell_type": "markdown",
      "metadata": {},
      "source": []
    }
  ],
  "metadata": {
    "colab": {
      "authorship_tag": "ABX9TyN3ji5dthhFgQhP1CJ7JjiU",
      "include_colab_link": true,
      "provenance": []
    },
    "kernelspec": {
      "display_name": "Python 3",
      "name": "python3"
    },
    "language_info": {
      "codemirror_mode": {
        "name": "ipython",
        "version": 3
      },
      "file_extension": ".py",
      "mimetype": "text/x-python",
      "name": "python",
      "nbconvert_exporter": "python",
      "pygments_lexer": "ipython3",
      "version": "3.10.13"
    }
  },
  "nbformat": 4,
  "nbformat_minor": 0
}
